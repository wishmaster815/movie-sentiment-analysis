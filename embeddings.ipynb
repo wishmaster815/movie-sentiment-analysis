{
 "cells": [
  {
   "cell_type": "code",
   "execution_count": 19,
   "id": "830f35fc",
   "metadata": {},
   "outputs": [],
   "source": [
    "from tensorflow.keras.preprocessing.text import hashing_trick\n",
    "import numpy as np\n",
    "import pandas as pd"
   ]
  },
  {
   "cell_type": "code",
   "execution_count": 12,
   "id": "2791239b",
   "metadata": {},
   "outputs": [
    {
     "name": "stdout",
     "output_type": "stream",
     "text": [
      "[3956, 6204, 1557, 6764]\n"
     ]
    }
   ],
   "source": [
    "vocab_size = 10000\n",
    "text = \"This is an example\"\n",
    "encoded = hashing_trick(text, vocab_size, hash_function='md5')\n",
    "print(encoded)\n"
   ]
  },
  {
   "cell_type": "code",
   "execution_count": 13,
   "id": "ad9265ba",
   "metadata": {},
   "outputs": [],
   "source": [
    "### sentences\n",
    "sent=['the glass of milk',\n",
    "     'the glass of juice',\n",
    "     'the cup of tea',\n",
    "    'I am a good boy',\n",
    "     'I am a good developer',\n",
    "     'understand the meaning of words',\n",
    "     'your videos are good',]"
   ]
  },
  {
   "cell_type": "code",
   "execution_count": 14,
   "id": "04dfcb0f",
   "metadata": {},
   "outputs": [],
   "source": [
    "hashed_data = [hashing_trick(word, vocab_size, hash_function='md5')for word in sent]"
   ]
  },
  {
   "cell_type": "code",
   "execution_count": 15,
   "id": "67ad0d42",
   "metadata": {},
   "outputs": [
    {
     "data": {
      "text/plain": [
       "[[5001, 7898, 7566, 7150],\n",
       " [5001, 7898, 7566, 3356],\n",
       " [5001, 1306, 7566, 9309],\n",
       " [8765, 567, 1181, 3270, 7123],\n",
       " [8765, 567, 1181, 3270, 6634],\n",
       " [983, 5001, 3362, 7566, 661],\n",
       " [976, 8912, 1982, 3270]]"
      ]
     },
     "execution_count": 15,
     "metadata": {},
     "output_type": "execute_result"
    }
   ],
   "source": [
    "hashed_data"
   ]
  },
  {
   "cell_type": "code",
   "execution_count": 20,
   "id": "94c89ae4",
   "metadata": {},
   "outputs": [],
   "source": [
    "from tensorflow.keras.layers import Embedding\n",
    "from tensorflow.keras.utils import pad_sequences\n",
    "from tensorflow.keras.models import Sequential"
   ]
  },
  {
   "cell_type": "code",
   "execution_count": 22,
   "id": "5fa8cb42",
   "metadata": {},
   "outputs": [
    {
     "name": "stdout",
     "output_type": "stream",
     "text": [
      "[[   0    0    0    0 5001 7898 7566 7150]\n",
      " [   0    0    0    0 5001 7898 7566 3356]\n",
      " [   0    0    0    0 5001 1306 7566 9309]\n",
      " [   0    0    0 8765  567 1181 3270 7123]\n",
      " [   0    0    0 8765  567 1181 3270 6634]\n",
      " [   0    0    0  983 5001 3362 7566  661]\n",
      " [   0    0    0    0  976 8912 1982 3270]]\n"
     ]
    }
   ],
   "source": [
    "sent_length = 8\n",
    "embedded_data = pad_sequences(hashed_data,padding='pre', maxlen=sent_length)\n",
    "print(embedded_data)"
   ]
  },
  {
   "cell_type": "code",
   "execution_count": 23,
   "id": "ddf7041b",
   "metadata": {},
   "outputs": [],
   "source": [
    "#feature representaion \n",
    "dim = 10"
   ]
  },
  {
   "cell_type": "code",
   "execution_count": 25,
   "id": "90be2937",
   "metadata": {},
   "outputs": [],
   "source": [
    "model=Sequential()\n",
    "model.add(Embedding(vocab_size,dim,input_length=sent_length))\n",
    "model.compile('adam','mse')"
   ]
  },
  {
   "cell_type": "code",
   "execution_count": 26,
   "id": "ea73c58c",
   "metadata": {},
   "outputs": [
    {
     "name": "stdout",
     "output_type": "stream",
     "text": [
      "Model: \"sequential_1\"\n",
      "_________________________________________________________________\n",
      " Layer (type)                Output Shape              Param #   \n",
      "=================================================================\n",
      " embedding (Embedding)       (None, 8, 10)             100000    \n",
      "                                                                 \n",
      "=================================================================\n",
      "Total params: 100000 (390.62 KB)\n",
      "Trainable params: 100000 (390.62 KB)\n",
      "Non-trainable params: 0 (0.00 Byte)\n",
      "_________________________________________________________________\n"
     ]
    }
   ],
   "source": [
    "model.summary()"
   ]
  },
  {
   "cell_type": "code",
   "execution_count": null,
   "id": "ee0bf395",
   "metadata": {},
   "outputs": [],
   "source": []
  }
 ],
 "metadata": {
  "kernelspec": {
   "display_name": "Python 3",
   "language": "python",
   "name": "python3"
  },
  "language_info": {
   "codemirror_mode": {
    "name": "ipython",
    "version": 3
   },
   "file_extension": ".py",
   "mimetype": "text/x-python",
   "name": "python",
   "nbconvert_exporter": "python",
   "pygments_lexer": "ipython3",
   "version": "3.8.18"
  }
 },
 "nbformat": 4,
 "nbformat_minor": 5
}
